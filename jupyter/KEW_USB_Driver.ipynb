{
 "cells": [
  {
   "cell_type": "code",
   "execution_count": 1,
   "metadata": {},
   "outputs": [
    {
     "name": "stdout",
     "output_type": "stream",
     "text": [
      "Starting:  2018-12-05 12:34:46\n"
     ]
    },
    {
     "ename": "NoBackendError",
     "evalue": "No backend available",
     "output_type": "error",
     "traceback": [
      "\u001b[1;31m---------------------------------------------------------------------------\u001b[0m",
      "\u001b[1;31mNoBackendError\u001b[0m                            Traceback (most recent call last)",
      "\u001b[1;32m<ipython-input-1-263e5b1d080b>\u001b[0m in \u001b[0;36m<module>\u001b[1;34m()\u001b[0m\n\u001b[0;32m     10\u001b[0m \u001b[1;33m\u001b[0m\u001b[0m\n\u001b[0;32m     11\u001b[0m \u001b[1;31m# find our device\u001b[0m\u001b[1;33m\u001b[0m\u001b[1;33m\u001b[0m\u001b[0m\n\u001b[1;32m---> 12\u001b[1;33m \u001b[0mdev\u001b[0m \u001b[1;33m=\u001b[0m \u001b[0musb\u001b[0m\u001b[1;33m.\u001b[0m\u001b[0mcore\u001b[0m\u001b[1;33m.\u001b[0m\u001b[0mfind\u001b[0m\u001b[1;33m(\u001b[0m\u001b[0midVendor\u001b[0m\u001b[1;33m=\u001b[0m\u001b[1;36m0x12ec\u001b[0m\u001b[1;33m,\u001b[0m \u001b[0midProduct\u001b[0m\u001b[1;33m=\u001b[0m\u001b[1;36m0x6305\u001b[0m\u001b[1;33m)\u001b[0m\u001b[1;33m\u001b[0m\u001b[0m\n\u001b[0m\u001b[0;32m     13\u001b[0m \u001b[1;33m\u001b[0m\u001b[0m\n\u001b[0;32m     14\u001b[0m \u001b[1;31m# was it found?\u001b[0m\u001b[1;33m\u001b[0m\u001b[1;33m\u001b[0m\u001b[0m\n",
      "\u001b[1;32mC:\\ProgramData\\Anaconda3\\lib\\site-packages\\usb\\core.py\u001b[0m in \u001b[0;36mfind\u001b[1;34m(find_all, backend, custom_match, **args)\u001b[0m\n\u001b[0;32m   1261\u001b[0m                 \u001b[1;32mbreak\u001b[0m\u001b[1;33m\u001b[0m\u001b[0m\n\u001b[0;32m   1262\u001b[0m         \u001b[1;32melse\u001b[0m\u001b[1;33m:\u001b[0m\u001b[1;33m\u001b[0m\u001b[0m\n\u001b[1;32m-> 1263\u001b[1;33m             \u001b[1;32mraise\u001b[0m \u001b[0mNoBackendError\u001b[0m\u001b[1;33m(\u001b[0m\u001b[1;34m'No backend available'\u001b[0m\u001b[1;33m)\u001b[0m\u001b[1;33m\u001b[0m\u001b[0m\n\u001b[0m\u001b[0;32m   1264\u001b[0m \u001b[1;33m\u001b[0m\u001b[0m\n\u001b[0;32m   1265\u001b[0m     \u001b[1;32mif\u001b[0m \u001b[0mfind_all\u001b[0m\u001b[1;33m:\u001b[0m\u001b[1;33m\u001b[0m\u001b[0m\n",
      "\u001b[1;31mNoBackendError\u001b[0m: No backend available"
     ]
    }
   ],
   "source": [
    "import usb.core\n",
    "import usb.util\n",
    "import sys\n",
    "from time import gmtime, strftime\n",
    "import time\n",
    "import array\n",
    "\n",
    "print (\"Starting: \",strftime(\"%Y-%m-%d %H:%M:%S\", gmtime()))\n",
    "\n",
    "\n",
    "# find our device\n",
    "dev = usb.core.find(idVendor=0x12ec, idProduct=0x6305)\n",
    "\n",
    "# was it found?\n",
    "if dev is None:\n",
    "    raise ValueError('Device not found')\n",
    "else:\n",
    "    print (\"Device found!\")\n",
    "\n",
    "reattach = False\n",
    "if dev.is_kernel_driver_active(0):\n",
    "    reattach = True\n",
    "    dev.detach_kernel_driver(0)\n",
    "\n",
    "print(dev)\n",
    "    \n",
    "endpoint_in = dev[0][(0,0)][0]\n",
    "endpoint_out = dev[0][(0,0)][1]\n",
    "print(\"-----------------------------\")\n",
    "print (\"endpoint_out\",endpoint_out)\n",
    "print (\"endpoint_in\",endpoint_in)\n",
    "\n",
    "# write the data\n",
    "msg = b'\\x81'\n",
    "\n",
    "try:\n",
    "    # reading\n",
    "    print (\"Waiting to read...\")\n",
    "    \n",
    "    data = dev.read(endpoint_in.bEndpointAddress, 128)\n",
    "    \n",
    "    print(\"Read done\")\n",
    "    \n",
    "\n",
    "    print (strftime(\"%Y-%m-%d %H:%M:%S\", gmtime()))\n",
    "    print(data)\n",
    "\n",
    "    time.sleep(10)\n",
    "except usb.core.USBError:\n",
    "    print (\"USB error\")\n",
    "except:\n",
    "    print (\"write failed\")\n",
    "# end while\n",
    "\n",
    "# This is needed to release interface, otherwise attach_kernel_driver fails\n",
    "# due to \"Resource busy\"\n",
    "usb.util.dispose_resources(dev)\n",
    "\n",
    "# It may raise USBError if there's e.g. no kernel driver loaded at all\n",
    "if reattach:\n",
    "    dev.attach_kernel_driver(0)"
   ]
  },
  {
   "cell_type": "code",
   "execution_count": null,
   "metadata": {},
   "outputs": [],
   "source": []
  },
  {
   "cell_type": "code",
   "execution_count": null,
   "metadata": {},
   "outputs": [],
   "source": []
  }
 ],
 "metadata": {
  "kernelspec": {
   "display_name": "Python 3",
   "language": "python",
   "name": "python3"
  },
  "language_info": {
   "codemirror_mode": {
    "name": "ipython",
    "version": 3
   },
   "file_extension": ".py",
   "mimetype": "text/x-python",
   "name": "python",
   "nbconvert_exporter": "python",
   "pygments_lexer": "ipython3",
   "version": "3.7.0"
  }
 },
 "nbformat": 4,
 "nbformat_minor": 2
}
