{
 "cells": [
  {
   "cell_type": "code",
   "execution_count": 1,
   "metadata": {
    "collapsed": false
   },
   "outputs": [
    {
     "name": "stderr",
     "output_type": "stream",
     "text": [
      "2018-12-05 18:10:16,264 DEBUG:usb.backend.libusb1:_LibUSB.__init__(<CDLL 'libusb-1.0.so.0', handle 1b72590 at 0x7fd6d87b2a90>)\n",
      "2018-12-05 18:10:16,273 INFO:usb.core:find(): using backend \"usb.backend.libusb1\"\n",
      "2018-12-05 18:10:16,276 DEBUG:usb.backend.libusb1:_LibUSB.enumerate_devices()\n",
      "2018-12-05 18:10:16,282 DEBUG:usb.backend.libusb1:_LibUSB.get_device_descriptor(<usb.backend.libusb1._Device object at 0x7fd6d8702fd0>)\n",
      "2018-12-05 18:10:16,285 DEBUG:usb.backend.libusb1:_LibUSB.get_device_descriptor(<usb.backend.libusb1._Device object at 0x7fd6d8719198>)\n",
      "2018-12-05 18:10:16,288 DEBUG:usb.backend.libusb1:_LibUSB.get_device_descriptor(<usb.backend.libusb1._Device object at 0x7fd6de667eb8>)\n",
      "2018-12-05 18:10:16,291 DEBUG:usb.backend.libusb1:_LibUSB.get_device_descriptor(<usb.backend.libusb1._Device object at 0x7fd6d8719438>)\n",
      "2018-12-05 18:10:16,299 DEBUG:usb.backend.libusb1:_LibUSB.get_device_descriptor(<usb.backend.libusb1._Device object at 0x7fd6e0893940>)\n",
      "2018-12-05 18:10:16,302 DEBUG:usb.backend.libusb1:_LibUSB.open_device(<usb.backend.libusb1._Device object at 0x7fd6e0893940>)\n",
      "2018-12-05 18:10:16,305 DEBUG:usb.backend.libusb1:_LibUSB.reset_device(<usb.backend.libusb1._DeviceHandle object at 0x7fd6d87b29e8>)\n",
      "2018-12-05 18:10:16,609 DEBUG:usb.backend.libusb1:_LibUSB.close_device(<usb.backend.libusb1._DeviceHandle object at 0x7fd6d87b29e8>)\n",
      "2018-12-05 18:10:16,614 DEBUG:usb.backend.libusb1:_LibUSB.open_device(<usb.backend.libusb1._Device object at 0x7fd6e0893940>)\n",
      "2018-12-05 18:10:16,618 DEBUG:usb.backend.libusb1:_LibUSB.is_kernel_driver_active(<usb.backend.libusb1._DeviceHandle object at 0x7fd6d87b2940>, 0)\n",
      "2018-12-05 18:10:16,624 DEBUG:usb.backend.libusb1:_LibUSB.ctrl_transfer(<usb.backend.libusb1._DeviceHandle object at 0x7fd6d87b2940>, 128, 6, 768, 0, array('B', [0, 0, 0, 0, 0, 0, 0, 0, 0, 0, 0, 0, 0, 0, 0, 0, 0, 0, 0, 0, 0, 0, 0, 0, 0, 0, 0, 0, 0, 0, 0, 0, 0, 0, 0, 0, 0, 0, 0, 0, 0, 0, 0, 0, 0, 0, 0, 0, 0, 0, 0, 0, 0, 0, 0, 0, 0, 0, 0, 0, 0, 0, 0, 0, 0, 0, 0, 0, 0, 0, 0, 0, 0, 0, 0, 0, 0, 0, 0, 0, 0, 0, 0, 0, 0, 0, 0, 0, 0, 0, 0, 0, 0, 0, 0, 0, 0, 0, 0, 0, 0, 0, 0, 0, 0, 0, 0, 0, 0, 0, 0, 0, 0, 0, 0, 0, 0, 0, 0, 0, 0, 0, 0, 0, 0, 0, 0, 0, 0, 0, 0, 0, 0, 0, 0, 0, 0, 0, 0, 0, 0, 0, 0, 0, 0, 0, 0, 0, 0, 0, 0, 0, 0, 0, 0, 0, 0, 0, 0, 0, 0, 0, 0, 0, 0, 0, 0, 0, 0, 0, 0, 0, 0, 0, 0, 0, 0, 0, 0, 0, 0, 0, 0, 0, 0, 0, 0, 0, 0, 0, 0, 0, 0, 0, 0, 0, 0, 0, 0, 0, 0, 0, 0, 0, 0, 0, 0, 0, 0, 0, 0, 0, 0, 0, 0, 0, 0, 0, 0, 0, 0, 0, 0, 0, 0, 0, 0, 0, 0, 0, 0, 0, 0, 0, 0, 0, 0, 0, 0, 0, 0, 0, 0, 0, 0, 0, 0, 0, 0, 0, 0, 0, 0, 0]), 1000)\n",
      "2018-12-05 18:10:16,630 DEBUG:usb.backend.libusb1:_LibUSB.ctrl_transfer(<usb.backend.libusb1._DeviceHandle object at 0x7fd6d87b2940>, 128, 6, 769, 1033, array('B', [0, 0, 0, 0, 0, 0, 0, 0, 0, 0, 0, 0, 0, 0, 0, 0, 0, 0, 0, 0, 0, 0, 0, 0, 0, 0, 0, 0, 0, 0, 0, 0, 0, 0, 0, 0, 0, 0, 0, 0, 0, 0, 0, 0, 0, 0, 0, 0, 0, 0, 0, 0, 0, 0, 0, 0, 0, 0, 0, 0, 0, 0, 0, 0, 0, 0, 0, 0, 0, 0, 0, 0, 0, 0, 0, 0, 0, 0, 0, 0, 0, 0, 0, 0, 0, 0, 0, 0, 0, 0, 0, 0, 0, 0, 0, 0, 0, 0, 0, 0, 0, 0, 0, 0, 0, 0, 0, 0, 0, 0, 0, 0, 0, 0, 0, 0, 0, 0, 0, 0, 0, 0, 0, 0, 0, 0, 0, 0, 0, 0, 0, 0, 0, 0, 0, 0, 0, 0, 0, 0, 0, 0, 0, 0, 0, 0, 0, 0, 0, 0, 0, 0, 0, 0, 0, 0, 0, 0, 0, 0, 0, 0, 0, 0, 0, 0, 0, 0, 0, 0, 0, 0, 0, 0, 0, 0, 0, 0, 0, 0, 0, 0, 0, 0, 0, 0, 0, 0, 0, 0, 0, 0, 0, 0, 0, 0, 0, 0, 0, 0, 0, 0, 0, 0, 0, 0, 0, 0, 0, 0, 0, 0, 0, 0, 0, 0, 0, 0, 0, 0, 0, 0, 0, 0, 0, 0, 0, 0, 0, 0, 0, 0, 0, 0, 0, 0, 0, 0, 0, 0, 0, 0, 0, 0, 0, 0, 0, 0, 0, 0, 0, 0, 0, 0, 0]), 1000)\n",
      "2018-12-05 18:10:16,635 DEBUG:usb.backend.libusb1:_LibUSB.ctrl_transfer(<usb.backend.libusb1._DeviceHandle object at 0x7fd6d87b2940>, 128, 6, 770, 1033, array('B', [0, 0, 0, 0, 0, 0, 0, 0, 0, 0, 0, 0, 0, 0, 0, 0, 0, 0, 0, 0, 0, 0, 0, 0, 0, 0, 0, 0, 0, 0, 0, 0, 0, 0, 0, 0, 0, 0, 0, 0, 0, 0, 0, 0, 0, 0, 0, 0, 0, 0, 0, 0, 0, 0, 0, 0, 0, 0, 0, 0, 0, 0, 0, 0, 0, 0, 0, 0, 0, 0, 0, 0, 0, 0, 0, 0, 0, 0, 0, 0, 0, 0, 0, 0, 0, 0, 0, 0, 0, 0, 0, 0, 0, 0, 0, 0, 0, 0, 0, 0, 0, 0, 0, 0, 0, 0, 0, 0, 0, 0, 0, 0, 0, 0, 0, 0, 0, 0, 0, 0, 0, 0, 0, 0, 0, 0, 0, 0, 0, 0, 0, 0, 0, 0, 0, 0, 0, 0, 0, 0, 0, 0, 0, 0, 0, 0, 0, 0, 0, 0, 0, 0, 0, 0, 0, 0, 0, 0, 0, 0, 0, 0, 0, 0, 0, 0, 0, 0, 0, 0, 0, 0, 0, 0, 0, 0, 0, 0, 0, 0, 0, 0, 0, 0, 0, 0, 0, 0, 0, 0, 0, 0, 0, 0, 0, 0, 0, 0, 0, 0, 0, 0, 0, 0, 0, 0, 0, 0, 0, 0, 0, 0, 0, 0, 0, 0, 0, 0, 0, 0, 0, 0, 0, 0, 0, 0, 0, 0, 0, 0, 0, 0, 0, 0, 0, 0, 0, 0, 0, 0, 0, 0, 0, 0, 0, 0, 0, 0, 0, 0, 0, 0, 0, 0, 0]), 1000)\n",
      "2018-12-05 18:10:16,639 DEBUG:usb.backend.libusb1:_LibUSB.ctrl_transfer(<usb.backend.libusb1._DeviceHandle object at 0x7fd6d87b2940>, 128, 6, 771, 1033, array('B', [0, 0, 0, 0, 0, 0, 0, 0, 0, 0, 0, 0, 0, 0, 0, 0, 0, 0, 0, 0, 0, 0, 0, 0, 0, 0, 0, 0, 0, 0, 0, 0, 0, 0, 0, 0, 0, 0, 0, 0, 0, 0, 0, 0, 0, 0, 0, 0, 0, 0, 0, 0, 0, 0, 0, 0, 0, 0, 0, 0, 0, 0, 0, 0, 0, 0, 0, 0, 0, 0, 0, 0, 0, 0, 0, 0, 0, 0, 0, 0, 0, 0, 0, 0, 0, 0, 0, 0, 0, 0, 0, 0, 0, 0, 0, 0, 0, 0, 0, 0, 0, 0, 0, 0, 0, 0, 0, 0, 0, 0, 0, 0, 0, 0, 0, 0, 0, 0, 0, 0, 0, 0, 0, 0, 0, 0, 0, 0, 0, 0, 0, 0, 0, 0, 0, 0, 0, 0, 0, 0, 0, 0, 0, 0, 0, 0, 0, 0, 0, 0, 0, 0, 0, 0, 0, 0, 0, 0, 0, 0, 0, 0, 0, 0, 0, 0, 0, 0, 0, 0, 0, 0, 0, 0, 0, 0, 0, 0, 0, 0, 0, 0, 0, 0, 0, 0, 0, 0, 0, 0, 0, 0, 0, 0, 0, 0, 0, 0, 0, 0, 0, 0, 0, 0, 0, 0, 0, 0, 0, 0, 0, 0, 0, 0, 0, 0, 0, 0, 0, 0, 0, 0, 0, 0, 0, 0, 0, 0, 0, 0, 0, 0, 0, 0, 0, 0, 0, 0, 0, 0, 0, 0, 0, 0, 0, 0, 0, 0, 0, 0, 0, 0, 0, 0, 0]), 1000)\n",
      "2018-12-05 18:10:16,643 DEBUG:usb.backend.libusb1:_LibUSB.get_configuration_descriptor(<usb.backend.libusb1._Device object at 0x7fd6e0893940>, 0)\n",
      "2018-12-05 18:10:16,646 DEBUG:usb.backend.libusb1:_LibUSB.get_interface_descriptor(<usb.backend.libusb1._Device object at 0x7fd6e0893940>, 0, 0, 0)\n",
      "2018-12-05 18:10:16,649 DEBUG:usb.backend.libusb1:_LibUSB.get_configuration_descriptor(<usb.backend.libusb1._Device object at 0x7fd6e0893940>, 0)\n",
      "2018-12-05 18:10:16,652 DEBUG:usb.backend.libusb1:_LibUSB.get_endpoint_descriptor(<usb.backend.libusb1._Device object at 0x7fd6e0893940>, 0, 0, 0, 0)\n",
      "2018-12-05 18:10:16,654 DEBUG:usb.backend.libusb1:_LibUSB.get_interface_descriptor(<usb.backend.libusb1._Device object at 0x7fd6e0893940>, 0, 0, 0)\n",
      "2018-12-05 18:10:16,656 DEBUG:usb.backend.libusb1:_LibUSB.get_configuration_descriptor(<usb.backend.libusb1._Device object at 0x7fd6e0893940>, 0)\n",
      "2018-12-05 18:10:16,660 DEBUG:usb.backend.libusb1:_LibUSB.get_interface_descriptor(<usb.backend.libusb1._Device object at 0x7fd6e0893940>, 0, 1, 0)\n",
      "2018-12-05 18:10:16,663 DEBUG:usb.backend.libusb1:_LibUSB.get_configuration_descriptor(<usb.backend.libusb1._Device object at 0x7fd6e0893940>, 0)\n",
      "2018-12-05 18:10:16,666 DEBUG:usb.backend.libusb1:_LibUSB.get_interface_descriptor(<usb.backend.libusb1._Device object at 0x7fd6e0893940>, 1, 0, 0)\n",
      "2018-12-05 18:10:16,669 DEBUG:usb.backend.libusb1:_LibUSB.get_configuration_descriptor(<usb.backend.libusb1._Device object at 0x7fd6e0893940>, 0)\n",
      "2018-12-05 18:10:16,672 DEBUG:usb.backend.libusb1:_LibUSB.get_endpoint_descriptor(<usb.backend.libusb1._Device object at 0x7fd6e0893940>, 0, 1, 0, 0)\n",
      "2018-12-05 18:10:16,676 DEBUG:usb.backend.libusb1:_LibUSB.get_interface_descriptor(<usb.backend.libusb1._Device object at 0x7fd6e0893940>, 1, 0, 0)\n",
      "2018-12-05 18:10:16,687 DEBUG:usb.backend.libusb1:_LibUSB.get_configuration_descriptor(<usb.backend.libusb1._Device object at 0x7fd6e0893940>, 0)\n",
      "2018-12-05 18:10:16,689 DEBUG:usb.backend.libusb1:_LibUSB.get_endpoint_descriptor(<usb.backend.libusb1._Device object at 0x7fd6e0893940>, 1, 1, 0, 0)\n",
      "2018-12-05 18:10:16,694 DEBUG:usb.backend.libusb1:_LibUSB.get_interface_descriptor(<usb.backend.libusb1._Device object at 0x7fd6e0893940>, 1, 0, 0)\n",
      "2018-12-05 18:10:16,696 DEBUG:usb.backend.libusb1:_LibUSB.get_configuration_descriptor(<usb.backend.libusb1._Device object at 0x7fd6e0893940>, 0)\n",
      "2018-12-05 18:10:16,699 DEBUG:usb.backend.libusb1:_LibUSB.get_interface_descriptor(<usb.backend.libusb1._Device object at 0x7fd6e0893940>, 1, 1, 0)\n",
      "2018-12-05 18:10:16,702 DEBUG:usb.backend.libusb1:_LibUSB.get_configuration_descriptor(<usb.backend.libusb1._Device object at 0x7fd6e0893940>, 0)\n",
      "2018-12-05 18:10:16,706 DEBUG:usb.backend.libusb1:_LibUSB.get_configuration_descriptor(<usb.backend.libusb1._Device object at 0x7fd6e0893940>, 0)\n",
      "2018-12-05 18:10:16,709 DEBUG:usb.backend.libusb1:_LibUSB.get_interface_descriptor(<usb.backend.libusb1._Device object at 0x7fd6e0893940>, 0, 0, 0)\n",
      "2018-12-05 18:10:16,712 DEBUG:usb.backend.libusb1:_LibUSB.get_configuration_descriptor(<usb.backend.libusb1._Device object at 0x7fd6e0893940>, 0)\n",
      "2018-12-05 18:10:16,715 DEBUG:usb.backend.libusb1:_LibUSB.get_endpoint_descriptor(<usb.backend.libusb1._Device object at 0x7fd6e0893940>, 0, 0, 0, 0)\n",
      "2018-12-05 18:10:16,717 DEBUG:usb.backend.libusb1:_LibUSB.get_interface_descriptor(<usb.backend.libusb1._Device object at 0x7fd6e0893940>, 0, 0, 0)\n",
      "2018-12-05 18:10:16,726 DEBUG:usb.backend.libusb1:_LibUSB.get_configuration_descriptor(<usb.backend.libusb1._Device object at 0x7fd6e0893940>, 0)\n",
      "2018-12-05 18:10:16,729 DEBUG:usb.backend.libusb1:_LibUSB.get_configuration_descriptor(<usb.backend.libusb1._Device object at 0x7fd6e0893940>, 0)\n",
      "2018-12-05 18:10:16,732 DEBUG:usb.backend.libusb1:_LibUSB.get_interface_descriptor(<usb.backend.libusb1._Device object at 0x7fd6e0893940>, 0, 0, 0)\n",
      "2018-12-05 18:10:16,735 DEBUG:usb.backend.libusb1:_LibUSB.get_configuration_descriptor(<usb.backend.libusb1._Device object at 0x7fd6e0893940>, 0)\n",
      "2018-12-05 18:10:16,738 DEBUG:usb.backend.libusb1:_LibUSB.get_endpoint_descriptor(<usb.backend.libusb1._Device object at 0x7fd6e0893940>, 1, 0, 0, 0)\n",
      "2018-12-05 18:10:16,740 DEBUG:usb.backend.libusb1:_LibUSB.get_interface_descriptor(<usb.backend.libusb1._Device object at 0x7fd6e0893940>, 0, 0, 0)\n",
      "2018-12-05 18:10:16,742 DEBUG:usb.backend.libusb1:_LibUSB.get_configuration_descriptor(<usb.backend.libusb1._Device object at 0x7fd6e0893940>, 0)\n"
     ]
    },
    {
     "name": "stdout",
     "output_type": "stream",
     "text": [
      "Device found!\n",
      "-----------------------------\n",
      "Device is:  DEVICE ID 12ec:6305 on Bus 005 Address 007 =================\n",
      " bLength                :   0x12 (18 bytes)\n",
      " bDescriptorType        :    0x1 Device\n",
      " bcdUSB                 :  0x110 USB 1.1\n",
      " bDeviceClass           :    0x2 Communications Device\n",
      " bDeviceSubClass        :    0x0\n",
      " bDeviceProtocol        :    0x0\n",
      " bMaxPacketSize0        :    0x8 (8 bytes)\n",
      " idVendor               : 0x12ec\n",
      " idProduct              : 0x6305\n",
      " bcdDevice              :  0x100 Device 1.0\n",
      " iManufacturer          :    0x1 KYORITSU ELECTRICAL INSTRUMENTS WORKS, LTD.\n",
      " iProduct               :    0x2 Compact Power Meter KEW6305\n",
      " iSerialNumber          :    0x3 08228316\n",
      " bNumConfigurations     :    0x1\n",
      "  CONFIGURATION 1: 32 mA ===================================\n",
      "   bLength              :    0x9 (9 bytes)\n",
      "   bDescriptorType      :    0x2 Configuration\n",
      "   wTotalLength         :   0x43 (67 bytes)\n",
      "   bNumInterfaces       :    0x2\n",
      "   bConfigurationValue  :    0x1\n",
      "   iConfiguration       :    0x0 \n",
      "   bmAttributes         :   0xc0 Self Powered\n",
      "   bMaxPower            :   0x10 (32 mA)\n",
      "    INTERFACE 0: CDC Communication =========================\n",
      "     bLength            :    0x9 (9 bytes)\n",
      "     bDescriptorType    :    0x4 Interface\n",
      "     bInterfaceNumber   :    0x0\n",
      "     bAlternateSetting  :    0x0\n",
      "     bNumEndpoints      :    0x1\n",
      "     bInterfaceClass    :    0x2 CDC Communication\n",
      "     bInterfaceSubClass :    0x2\n",
      "     bInterfaceProtocol :    0x1\n",
      "     iInterface         :    0x0 \n",
      "      ENDPOINT 0x83: Interrupt IN ==========================\n",
      "       bLength          :    0x7 (7 bytes)\n",
      "       bDescriptorType  :    0x5 Endpoint\n",
      "       bEndpointAddress :   0x83 IN\n",
      "       bmAttributes     :    0x3 Interrupt\n",
      "       wMaxPacketSize   :    0x8 (8 bytes)\n",
      "       bInterval        :   0x10\n",
      "    INTERFACE 1: CDC Data ==================================\n",
      "     bLength            :    0x9 (9 bytes)\n",
      "     bDescriptorType    :    0x4 Interface\n",
      "     bInterfaceNumber   :    0x1\n",
      "     bAlternateSetting  :    0x0\n",
      "     bNumEndpoints      :    0x2\n",
      "     bInterfaceClass    :    0xa CDC Data\n",
      "     bInterfaceSubClass :    0x0\n",
      "     bInterfaceProtocol :    0x0\n",
      "     iInterface         :    0x0 \n",
      "      ENDPOINT 0x1: Bulk OUT ===============================\n",
      "       bLength          :    0x7 (7 bytes)\n",
      "       bDescriptorType  :    0x5 Endpoint\n",
      "       bEndpointAddress :    0x1 OUT\n",
      "       bmAttributes     :    0x2 Bulk\n",
      "       wMaxPacketSize   :   0x40 (64 bytes)\n",
      "       bInterval        :    0x0\n",
      "      ENDPOINT 0x82: Bulk IN ===============================\n",
      "       bLength          :    0x7 (7 bytes)\n",
      "       bDescriptorType  :    0x5 Endpoint\n",
      "       bEndpointAddress :   0x82 IN\n",
      "       bmAttributes     :    0x2 Bulk\n",
      "       wMaxPacketSize   :   0x40 (64 bytes)\n",
      "       bInterval        :    0x0\n",
      "-----------------------------\n",
      "\n",
      "-----------------------------\n",
      "endpoint_out       ENDPOINT 0x0: Control OUT ============================\n",
      "       bLength          :   0x30 (7 bytes)\n",
      "       bDescriptorType  :    0x0 \n",
      "       bEndpointAddress :    0x0 OUT\n",
      "       bmAttributes     :    0x0 Control\n",
      "       wMaxPacketSize   :    0x0 (0 bytes)\n",
      "       bInterval        :    0x0\n",
      "endpoint_in       ENDPOINT 0x83: Interrupt IN ==========================\n",
      "       bLength          :    0x7 (7 bytes)\n",
      "       bDescriptorType  :    0x5 Endpoint\n",
      "       bEndpointAddress :   0x83 IN\n",
      "       bmAttributes     :    0x3 Interrupt\n",
      "       wMaxPacketSize   :    0x8 (8 bytes)\n",
      "       bInterval        :   0x10\n",
      "-----------------------------\n"
     ]
    }
   ],
   "source": [
    "import os\n",
    "os.environ['PYUSB_DEBUG'] = 'debug'\n",
    "import usb.core\n",
    "import usb.util\n",
    "import sys\n",
    "from time import gmtime, strftime\n",
    "import time\n",
    "import array\n",
    "\n",
    "\n",
    "\n",
    "\n",
    "# find our device\n",
    "dev = usb.core.find(idVendor=0x12ec, idProduct=0x6305)\n",
    "dev.reset()\n",
    "\n",
    "# was it found?\n",
    "if dev is None:\n",
    "    raise ValueError('Device not found')\n",
    "else:\n",
    "    print (\"Device found!\")\n",
    "\n",
    "reattach = False\n",
    "if dev.is_kernel_driver_active(0):\n",
    "    reattach = True\n",
    "    dev.detach_kernel_driver(0)\n",
    "\n",
    "print(\"-----------------------------\")   \n",
    "print(\"Device is: \", dev)\n",
    "print(\"-----------------------------\\n\")\n",
    "   \n",
    "endpoint_in = dev[0][(0,0)][0]\n",
    "endpoint_out = dev[0][(0,0)][1]\n",
    "print(\"-----------------------------\")\n",
    "print (\"endpoint_out\", endpoint_out)\n",
    "print (\"endpoint_in\", endpoint_in)\n",
    "print(\"-----------------------------\")"
   ]
  },
  {
   "cell_type": "code",
   "execution_count": null,
   "metadata": {
    "collapsed": false
   },
   "outputs": [
    {
     "name": "stderr",
     "output_type": "stream",
     "text": [
      "2018-12-05 18:10:25,157 DEBUG:usb.backend.libusb1:_LibUSB.get_configuration(<usb.backend.libusb1._DeviceHandle object at 0x7fd6d87b2940>)\n",
      "2018-12-05 18:10:25,161 DEBUG:usb.backend.libusb1:_LibUSB.get_configuration_descriptor(<usb.backend.libusb1._Device object at 0x7fd6e0893940>, 0)\n",
      "2018-12-05 18:10:25,166 DEBUG:usb.backend.libusb1:_LibUSB.get_interface_descriptor(<usb.backend.libusb1._Device object at 0x7fd6e0893940>, 0, 0, 0)\n",
      "2018-12-05 18:10:25,168 DEBUG:usb.backend.libusb1:_LibUSB.get_configuration_descriptor(<usb.backend.libusb1._Device object at 0x7fd6e0893940>, 0)\n",
      "2018-12-05 18:10:25,171 DEBUG:usb.backend.libusb1:_LibUSB.get_endpoint_descriptor(<usb.backend.libusb1._Device object at 0x7fd6e0893940>, 0, 0, 0, 0)\n",
      "2018-12-05 18:10:25,174 DEBUG:usb.backend.libusb1:_LibUSB.get_interface_descriptor(<usb.backend.libusb1._Device object at 0x7fd6e0893940>, 0, 0, 0)\n",
      "2018-12-05 18:10:25,176 DEBUG:usb.backend.libusb1:_LibUSB.get_configuration_descriptor(<usb.backend.libusb1._Device object at 0x7fd6e0893940>, 0)\n",
      "2018-12-05 18:10:25,190 DEBUG:usb.backend.libusb1:_LibUSB.claim_interface(<usb.backend.libusb1._DeviceHandle object at 0x7fd6d87b2940>, 0)\n",
      "2018-12-05 18:10:25,192 DEBUG:usb.backend.libusb1:_LibUSB.intr_read(<usb.backend.libusb1._DeviceHandle object at 0x7fd6d87b2940>, 131, 0, array('B', [0, 0, 0, 0, 0, 0, 0, 0]), 1000)\n"
     ]
    },
    {
     "name": "stdout",
     "output_type": "stream",
     "text": [
      "Starting:  2018-12-05 17:10:25\n",
      "Waiting to read...\n"
     ]
    },
    {
     "name": "stderr",
     "output_type": "stream",
     "text": [
      "2018-12-05 18:10:26,196 DEBUG:usb.backend.libusb1:_LibUSB.intr_read(<usb.backend.libusb1._DeviceHandle object at 0x7fd6d87b2940>, 131, 0, array('B', [0, 0, 0, 0, 0, 0, 0, 0]), 1000)\n"
     ]
    },
    {
     "name": "stdout",
     "output_type": "stream",
     "text": [
      "USB error\n",
      "Waiting to read...\n"
     ]
    },
    {
     "name": "stderr",
     "output_type": "stream",
     "text": [
      "2018-12-05 18:10:27,201 DEBUG:usb.backend.libusb1:_LibUSB.intr_read(<usb.backend.libusb1._DeviceHandle object at 0x7fd6d87b2940>, 131, 0, array('B', [0, 0, 0, 0, 0, 0, 0, 0]), 1000)\n"
     ]
    },
    {
     "name": "stdout",
     "output_type": "stream",
     "text": [
      "USB error\n",
      "Waiting to read...\n"
     ]
    },
    {
     "name": "stderr",
     "output_type": "stream",
     "text": [
      "2018-12-05 18:10:28,206 DEBUG:usb.backend.libusb1:_LibUSB.intr_read(<usb.backend.libusb1._DeviceHandle object at 0x7fd6d87b2940>, 131, 0, array('B', [0, 0, 0, 0, 0, 0, 0, 0]), 1000)\n"
     ]
    },
    {
     "name": "stdout",
     "output_type": "stream",
     "text": [
      "USB error\n",
      "Waiting to read...\n"
     ]
    },
    {
     "name": "stderr",
     "output_type": "stream",
     "text": [
      "2018-12-05 18:10:29,211 DEBUG:usb.backend.libusb1:_LibUSB.intr_read(<usb.backend.libusb1._DeviceHandle object at 0x7fd6d87b2940>, 131, 0, array('B', [0, 0, 0, 0, 0, 0, 0, 0]), 1000)\n"
     ]
    },
    {
     "name": "stdout",
     "output_type": "stream",
     "text": [
      "USB error\n",
      "Waiting to read...\n"
     ]
    },
    {
     "name": "stderr",
     "output_type": "stream",
     "text": [
      "2018-12-05 18:10:30,216 DEBUG:usb.backend.libusb1:_LibUSB.intr_read(<usb.backend.libusb1._DeviceHandle object at 0x7fd6d87b2940>, 131, 0, array('B', [0, 0, 0, 0, 0, 0, 0, 0]), 1000)\n"
     ]
    },
    {
     "name": "stdout",
     "output_type": "stream",
     "text": [
      "USB error\n",
      "Waiting to read...\n"
     ]
    },
    {
     "name": "stderr",
     "output_type": "stream",
     "text": [
      "2018-12-05 18:10:31,221 DEBUG:usb.backend.libusb1:_LibUSB.intr_read(<usb.backend.libusb1._DeviceHandle object at 0x7fd6d87b2940>, 131, 0, array('B', [0, 0, 0, 0, 0, 0, 0, 0]), 1000)\n"
     ]
    },
    {
     "name": "stdout",
     "output_type": "stream",
     "text": [
      "USB error\n",
      "Waiting to read...\n"
     ]
    },
    {
     "name": "stderr",
     "output_type": "stream",
     "text": [
      "2018-12-05 18:10:32,226 DEBUG:usb.backend.libusb1:_LibUSB.intr_read(<usb.backend.libusb1._DeviceHandle object at 0x7fd6d87b2940>, 131, 0, array('B', [0, 0, 0, 0, 0, 0, 0, 0]), 1000)\n"
     ]
    },
    {
     "name": "stdout",
     "output_type": "stream",
     "text": [
      "USB error\n",
      "Waiting to read...\n"
     ]
    },
    {
     "name": "stderr",
     "output_type": "stream",
     "text": [
      "2018-12-05 18:10:33,232 DEBUG:usb.backend.libusb1:_LibUSB.intr_read(<usb.backend.libusb1._DeviceHandle object at 0x7fd6d87b2940>, 131, 0, array('B', [0, 0, 0, 0, 0, 0, 0, 0]), 1000)\n"
     ]
    },
    {
     "name": "stdout",
     "output_type": "stream",
     "text": [
      "USB error\n",
      "Waiting to read...\n"
     ]
    },
    {
     "name": "stderr",
     "output_type": "stream",
     "text": [
      "2018-12-05 18:10:34,238 DEBUG:usb.backend.libusb1:_LibUSB.intr_read(<usb.backend.libusb1._DeviceHandle object at 0x7fd6d87b2940>, 131, 0, array('B', [0, 0, 0, 0, 0, 0, 0, 0]), 1000)\n"
     ]
    },
    {
     "name": "stdout",
     "output_type": "stream",
     "text": [
      "USB error\n",
      "Waiting to read...\n"
     ]
    },
    {
     "name": "stderr",
     "output_type": "stream",
     "text": [
      "2018-12-05 18:10:35,241 DEBUG:usb.backend.libusb1:_LibUSB.intr_read(<usb.backend.libusb1._DeviceHandle object at 0x7fd6d87b2940>, 131, 0, array('B', [0, 0, 0, 0, 0, 0, 0, 0]), 1000)\n"
     ]
    },
    {
     "name": "stdout",
     "output_type": "stream",
     "text": [
      "USB error\n",
      "Waiting to read...\n"
     ]
    },
    {
     "name": "stderr",
     "output_type": "stream",
     "text": [
      "2018-12-05 18:10:36,246 DEBUG:usb.backend.libusb1:_LibUSB.intr_read(<usb.backend.libusb1._DeviceHandle object at 0x7fd6d87b2940>, 131, 0, array('B', [0, 0, 0, 0, 0, 0, 0, 0]), 1000)\n"
     ]
    },
    {
     "name": "stdout",
     "output_type": "stream",
     "text": [
      "USB error\n",
      "Waiting to read...\n"
     ]
    },
    {
     "name": "stderr",
     "output_type": "stream",
     "text": [
      "2018-12-05 18:10:37,251 DEBUG:usb.backend.libusb1:_LibUSB.intr_read(<usb.backend.libusb1._DeviceHandle object at 0x7fd6d87b2940>, 131, 0, array('B', [0, 0, 0, 0, 0, 0, 0, 0]), 1000)\n"
     ]
    },
    {
     "name": "stdout",
     "output_type": "stream",
     "text": [
      "USB error\n",
      "Waiting to read...\n"
     ]
    },
    {
     "name": "stderr",
     "output_type": "stream",
     "text": [
      "2018-12-05 18:10:38,255 DEBUG:usb.backend.libusb1:_LibUSB.intr_read(<usb.backend.libusb1._DeviceHandle object at 0x7fd6d87b2940>, 131, 0, array('B', [0, 0, 0, 0, 0, 0, 0, 0]), 1000)\n"
     ]
    },
    {
     "name": "stdout",
     "output_type": "stream",
     "text": [
      "USB error\n",
      "Waiting to read...\n"
     ]
    },
    {
     "name": "stderr",
     "output_type": "stream",
     "text": [
      "2018-12-05 18:10:39,260 DEBUG:usb.backend.libusb1:_LibUSB.intr_read(<usb.backend.libusb1._DeviceHandle object at 0x7fd6d87b2940>, 131, 0, array('B', [0, 0, 0, 0, 0, 0, 0, 0]), 1000)\n"
     ]
    },
    {
     "name": "stdout",
     "output_type": "stream",
     "text": [
      "USB error\n",
      "Waiting to read...\n"
     ]
    },
    {
     "name": "stderr",
     "output_type": "stream",
     "text": [
      "2018-12-05 18:10:40,265 DEBUG:usb.backend.libusb1:_LibUSB.intr_read(<usb.backend.libusb1._DeviceHandle object at 0x7fd6d87b2940>, 131, 0, array('B', [0, 0, 0, 0, 0, 0, 0, 0]), 1000)\n"
     ]
    },
    {
     "name": "stdout",
     "output_type": "stream",
     "text": [
      "USB error\n",
      "Waiting to read...\n"
     ]
    },
    {
     "name": "stderr",
     "output_type": "stream",
     "text": [
      "2018-12-05 18:10:41,269 DEBUG:usb.backend.libusb1:_LibUSB.intr_read(<usb.backend.libusb1._DeviceHandle object at 0x7fd6d87b2940>, 131, 0, array('B', [0, 0, 0, 0, 0, 0, 0, 0]), 1000)\n"
     ]
    },
    {
     "name": "stdout",
     "output_type": "stream",
     "text": [
      "USB error\n",
      "Waiting to read...\n"
     ]
    },
    {
     "name": "stderr",
     "output_type": "stream",
     "text": [
      "2018-12-05 18:10:42,275 DEBUG:usb.backend.libusb1:_LibUSB.intr_read(<usb.backend.libusb1._DeviceHandle object at 0x7fd6d87b2940>, 131, 0, array('B', [0, 0, 0, 0, 0, 0, 0, 0]), 1000)\n"
     ]
    },
    {
     "name": "stdout",
     "output_type": "stream",
     "text": [
      "USB error\n",
      "Waiting to read...\n"
     ]
    },
    {
     "name": "stderr",
     "output_type": "stream",
     "text": [
      "2018-12-05 18:10:43,281 DEBUG:usb.backend.libusb1:_LibUSB.intr_read(<usb.backend.libusb1._DeviceHandle object at 0x7fd6d87b2940>, 131, 0, array('B', [0, 0, 0, 0, 0, 0, 0, 0]), 1000)\n"
     ]
    },
    {
     "name": "stdout",
     "output_type": "stream",
     "text": [
      "USB error\n",
      "Waiting to read...\n"
     ]
    },
    {
     "name": "stderr",
     "output_type": "stream",
     "text": [
      "2018-12-05 18:10:44,286 DEBUG:usb.backend.libusb1:_LibUSB.intr_read(<usb.backend.libusb1._DeviceHandle object at 0x7fd6d87b2940>, 131, 0, array('B', [0, 0, 0, 0, 0, 0, 0, 0]), 1000)\n"
     ]
    },
    {
     "name": "stdout",
     "output_type": "stream",
     "text": [
      "USB error\n",
      "Waiting to read...\n"
     ]
    },
    {
     "name": "stderr",
     "output_type": "stream",
     "text": [
      "2018-12-05 18:10:45,290 DEBUG:usb.backend.libusb1:_LibUSB.intr_read(<usb.backend.libusb1._DeviceHandle object at 0x7fd6d87b2940>, 131, 0, array('B', [0, 0, 0, 0, 0, 0, 0, 0]), 1000)\n"
     ]
    },
    {
     "name": "stdout",
     "output_type": "stream",
     "text": [
      "USB error\n",
      "Waiting to read...\n"
     ]
    },
    {
     "name": "stderr",
     "output_type": "stream",
     "text": [
      "2018-12-05 18:10:46,296 DEBUG:usb.backend.libusb1:_LibUSB.intr_read(<usb.backend.libusb1._DeviceHandle object at 0x7fd6d87b2940>, 131, 0, array('B', [0, 0, 0, 0, 0, 0, 0, 0]), 1000)\n"
     ]
    },
    {
     "name": "stdout",
     "output_type": "stream",
     "text": [
      "USB error\n",
      "Waiting to read...\n"
     ]
    },
    {
     "name": "stderr",
     "output_type": "stream",
     "text": [
      "2018-12-05 18:10:47,300 DEBUG:usb.backend.libusb1:_LibUSB.intr_read(<usb.backend.libusb1._DeviceHandle object at 0x7fd6d87b2940>, 131, 0, array('B', [0, 0, 0, 0, 0, 0, 0, 0]), 1000)\n"
     ]
    },
    {
     "name": "stdout",
     "output_type": "stream",
     "text": [
      "USB error\n",
      "Waiting to read...\n"
     ]
    },
    {
     "name": "stderr",
     "output_type": "stream",
     "text": [
      "2018-12-05 18:10:48,305 DEBUG:usb.backend.libusb1:_LibUSB.intr_read(<usb.backend.libusb1._DeviceHandle object at 0x7fd6d87b2940>, 131, 0, array('B', [0, 0, 0, 0, 0, 0, 0, 0]), 1000)\n"
     ]
    },
    {
     "name": "stdout",
     "output_type": "stream",
     "text": [
      "USB error\n",
      "Waiting to read...\n"
     ]
    },
    {
     "name": "stderr",
     "output_type": "stream",
     "text": [
      "2018-12-05 18:10:49,310 DEBUG:usb.backend.libusb1:_LibUSB.intr_read(<usb.backend.libusb1._DeviceHandle object at 0x7fd6d87b2940>, 131, 0, array('B', [0, 0, 0, 0, 0, 0, 0, 0]), 1000)\n"
     ]
    },
    {
     "name": "stdout",
     "output_type": "stream",
     "text": [
      "USB error\n",
      "Waiting to read...\n"
     ]
    },
    {
     "name": "stderr",
     "output_type": "stream",
     "text": [
      "2018-12-05 18:10:50,315 DEBUG:usb.backend.libusb1:_LibUSB.intr_read(<usb.backend.libusb1._DeviceHandle object at 0x7fd6d87b2940>, 131, 0, array('B', [0, 0, 0, 0, 0, 0, 0, 0]), 1000)\n"
     ]
    },
    {
     "name": "stdout",
     "output_type": "stream",
     "text": [
      "USB error\n",
      "Waiting to read...\n"
     ]
    },
    {
     "name": "stderr",
     "output_type": "stream",
     "text": [
      "2018-12-05 18:10:51,320 DEBUG:usb.backend.libusb1:_LibUSB.intr_read(<usb.backend.libusb1._DeviceHandle object at 0x7fd6d87b2940>, 131, 0, array('B', [0, 0, 0, 0, 0, 0, 0, 0]), 1000)\n"
     ]
    },
    {
     "name": "stdout",
     "output_type": "stream",
     "text": [
      "USB error\n",
      "Waiting to read...\n"
     ]
    },
    {
     "name": "stderr",
     "output_type": "stream",
     "text": [
      "2018-12-05 18:10:52,325 DEBUG:usb.backend.libusb1:_LibUSB.intr_read(<usb.backend.libusb1._DeviceHandle object at 0x7fd6d87b2940>, 131, 0, array('B', [0, 0, 0, 0, 0, 0, 0, 0]), 1000)\n"
     ]
    },
    {
     "name": "stdout",
     "output_type": "stream",
     "text": [
      "USB error\n",
      "Waiting to read...\n"
     ]
    },
    {
     "name": "stderr",
     "output_type": "stream",
     "text": [
      "2018-12-05 18:10:53,330 DEBUG:usb.backend.libusb1:_LibUSB.intr_read(<usb.backend.libusb1._DeviceHandle object at 0x7fd6d87b2940>, 131, 0, array('B', [0, 0, 0, 0, 0, 0, 0, 0]), 1000)\n"
     ]
    },
    {
     "name": "stdout",
     "output_type": "stream",
     "text": [
      "USB error\n",
      "Waiting to read...\n"
     ]
    },
    {
     "name": "stderr",
     "output_type": "stream",
     "text": [
      "2018-12-05 18:10:54,336 DEBUG:usb.backend.libusb1:_LibUSB.intr_read(<usb.backend.libusb1._DeviceHandle object at 0x7fd6d87b2940>, 131, 0, array('B', [0, 0, 0, 0, 0, 0, 0, 0]), 1000)\n"
     ]
    },
    {
     "name": "stdout",
     "output_type": "stream",
     "text": [
      "USB error\n",
      "Waiting to read...\n"
     ]
    },
    {
     "name": "stderr",
     "output_type": "stream",
     "text": [
      "2018-12-05 18:10:55,341 DEBUG:usb.backend.libusb1:_LibUSB.intr_read(<usb.backend.libusb1._DeviceHandle object at 0x7fd6d87b2940>, 131, 0, array('B', [0, 0, 0, 0, 0, 0, 0, 0]), 1000)\n"
     ]
    },
    {
     "name": "stdout",
     "output_type": "stream",
     "text": [
      "USB error\n",
      "Waiting to read...\n"
     ]
    },
    {
     "name": "stderr",
     "output_type": "stream",
     "text": [
      "2018-12-05 18:10:56,345 DEBUG:usb.backend.libusb1:_LibUSB.intr_read(<usb.backend.libusb1._DeviceHandle object at 0x7fd6d87b2940>, 131, 0, array('B', [0, 0, 0, 0, 0, 0, 0, 0]), 1000)\n"
     ]
    },
    {
     "name": "stdout",
     "output_type": "stream",
     "text": [
      "USB error\n",
      "Waiting to read...\n"
     ]
    },
    {
     "name": "stderr",
     "output_type": "stream",
     "text": [
      "2018-12-05 18:10:57,350 DEBUG:usb.backend.libusb1:_LibUSB.intr_read(<usb.backend.libusb1._DeviceHandle object at 0x7fd6d87b2940>, 131, 0, array('B', [0, 0, 0, 0, 0, 0, 0, 0]), 1000)\n"
     ]
    },
    {
     "name": "stdout",
     "output_type": "stream",
     "text": [
      "USB error\n",
      "Waiting to read...\n"
     ]
    },
    {
     "name": "stderr",
     "output_type": "stream",
     "text": [
      "2018-12-05 18:10:58,356 DEBUG:usb.backend.libusb1:_LibUSB.intr_read(<usb.backend.libusb1._DeviceHandle object at 0x7fd6d87b2940>, 131, 0, array('B', [0, 0, 0, 0, 0, 0, 0, 0]), 1000)\n"
     ]
    },
    {
     "name": "stdout",
     "output_type": "stream",
     "text": [
      "USB error\n",
      "Waiting to read...\n"
     ]
    },
    {
     "name": "stderr",
     "output_type": "stream",
     "text": [
      "2018-12-05 18:10:59,361 DEBUG:usb.backend.libusb1:_LibUSB.intr_read(<usb.backend.libusb1._DeviceHandle object at 0x7fd6d87b2940>, 131, 0, array('B', [0, 0, 0, 0, 0, 0, 0, 0]), 1000)\n"
     ]
    },
    {
     "name": "stdout",
     "output_type": "stream",
     "text": [
      "USB error\n",
      "Waiting to read...\n"
     ]
    },
    {
     "name": "stderr",
     "output_type": "stream",
     "text": [
      "2018-12-05 18:11:00,365 DEBUG:usb.backend.libusb1:_LibUSB.intr_read(<usb.backend.libusb1._DeviceHandle object at 0x7fd6d87b2940>, 131, 0, array('B', [0, 0, 0, 0, 0, 0, 0, 0]), 1000)\n"
     ]
    },
    {
     "name": "stdout",
     "output_type": "stream",
     "text": [
      "USB error\n",
      "Waiting to read...\n"
     ]
    },
    {
     "name": "stderr",
     "output_type": "stream",
     "text": [
      "2018-12-05 18:11:01,369 DEBUG:usb.backend.libusb1:_LibUSB.intr_read(<usb.backend.libusb1._DeviceHandle object at 0x7fd6d87b2940>, 131, 0, array('B', [0, 0, 0, 0, 0, 0, 0, 0]), 1000)\n"
     ]
    },
    {
     "name": "stdout",
     "output_type": "stream",
     "text": [
      "USB error\n",
      "Waiting to read...\n"
     ]
    },
    {
     "name": "stderr",
     "output_type": "stream",
     "text": [
      "2018-12-05 18:11:02,374 DEBUG:usb.backend.libusb1:_LibUSB.intr_read(<usb.backend.libusb1._DeviceHandle object at 0x7fd6d87b2940>, 131, 0, array('B', [0, 0, 0, 0, 0, 0, 0, 0]), 1000)\n"
     ]
    },
    {
     "name": "stdout",
     "output_type": "stream",
     "text": [
      "USB error\n",
      "Waiting to read...\n"
     ]
    },
    {
     "name": "stderr",
     "output_type": "stream",
     "text": [
      "2018-12-05 18:11:03,378 DEBUG:usb.backend.libusb1:_LibUSB.intr_read(<usb.backend.libusb1._DeviceHandle object at 0x7fd6d87b2940>, 131, 0, array('B', [0, 0, 0, 0, 0, 0, 0, 0]), 1000)\n"
     ]
    },
    {
     "name": "stdout",
     "output_type": "stream",
     "text": [
      "USB error\n",
      "Waiting to read...\n"
     ]
    },
    {
     "name": "stderr",
     "output_type": "stream",
     "text": [
      "2018-12-05 18:11:04,383 DEBUG:usb.backend.libusb1:_LibUSB.intr_read(<usb.backend.libusb1._DeviceHandle object at 0x7fd6d87b2940>, 131, 0, array('B', [0, 0, 0, 0, 0, 0, 0, 0]), 1000)\n"
     ]
    },
    {
     "name": "stdout",
     "output_type": "stream",
     "text": [
      "USB error\n",
      "Waiting to read...\n"
     ]
    },
    {
     "name": "stderr",
     "output_type": "stream",
     "text": [
      "2018-12-05 18:11:05,388 DEBUG:usb.backend.libusb1:_LibUSB.intr_read(<usb.backend.libusb1._DeviceHandle object at 0x7fd6d87b2940>, 131, 0, array('B', [0, 0, 0, 0, 0, 0, 0, 0]), 1000)\n"
     ]
    },
    {
     "name": "stdout",
     "output_type": "stream",
     "text": [
      "USB error\n",
      "Waiting to read...\n"
     ]
    },
    {
     "name": "stderr",
     "output_type": "stream",
     "text": [
      "2018-12-05 18:11:06,393 DEBUG:usb.backend.libusb1:_LibUSB.intr_read(<usb.backend.libusb1._DeviceHandle object at 0x7fd6d87b2940>, 131, 0, array('B', [0, 0, 0, 0, 0, 0, 0, 0]), 1000)\n"
     ]
    },
    {
     "name": "stdout",
     "output_type": "stream",
     "text": [
      "USB error\n",
      "Waiting to read...\n"
     ]
    },
    {
     "name": "stderr",
     "output_type": "stream",
     "text": [
      "2018-12-05 18:11:07,398 DEBUG:usb.backend.libusb1:_LibUSB.intr_read(<usb.backend.libusb1._DeviceHandle object at 0x7fd6d87b2940>, 131, 0, array('B', [0, 0, 0, 0, 0, 0, 0, 0]), 1000)\n"
     ]
    },
    {
     "name": "stdout",
     "output_type": "stream",
     "text": [
      "USB error\n",
      "Waiting to read...\n"
     ]
    },
    {
     "name": "stderr",
     "output_type": "stream",
     "text": [
      "2018-12-05 18:11:08,403 DEBUG:usb.backend.libusb1:_LibUSB.intr_read(<usb.backend.libusb1._DeviceHandle object at 0x7fd6d87b2940>, 131, 0, array('B', [0, 0, 0, 0, 0, 0, 0, 0]), 1000)\n"
     ]
    },
    {
     "name": "stdout",
     "output_type": "stream",
     "text": [
      "USB error\n",
      "Waiting to read...\n"
     ]
    },
    {
     "name": "stderr",
     "output_type": "stream",
     "text": [
      "2018-12-05 18:11:09,408 DEBUG:usb.backend.libusb1:_LibUSB.intr_read(<usb.backend.libusb1._DeviceHandle object at 0x7fd6d87b2940>, 131, 0, array('B', [0, 0, 0, 0, 0, 0, 0, 0]), 1000)\n"
     ]
    },
    {
     "name": "stdout",
     "output_type": "stream",
     "text": [
      "USB error\n",
      "Waiting to read...\n"
     ]
    },
    {
     "name": "stderr",
     "output_type": "stream",
     "text": [
      "2018-12-05 18:11:10,413 DEBUG:usb.backend.libusb1:_LibUSB.intr_read(<usb.backend.libusb1._DeviceHandle object at 0x7fd6d87b2940>, 131, 0, array('B', [0, 0, 0, 0, 0, 0, 0, 0]), 1000)\n"
     ]
    },
    {
     "name": "stdout",
     "output_type": "stream",
     "text": [
      "USB error\n",
      "Waiting to read...\n"
     ]
    },
    {
     "name": "stderr",
     "output_type": "stream",
     "text": [
      "2018-12-05 18:11:11,419 DEBUG:usb.backend.libusb1:_LibUSB.intr_read(<usb.backend.libusb1._DeviceHandle object at 0x7fd6d87b2940>, 131, 0, array('B', [0, 0, 0, 0, 0, 0, 0, 0]), 1000)\n"
     ]
    },
    {
     "name": "stdout",
     "output_type": "stream",
     "text": [
      "USB error\n",
      "Waiting to read...\n"
     ]
    },
    {
     "name": "stderr",
     "output_type": "stream",
     "text": [
      "2018-12-05 18:11:12,424 DEBUG:usb.backend.libusb1:_LibUSB.intr_read(<usb.backend.libusb1._DeviceHandle object at 0x7fd6d87b2940>, 131, 0, array('B', [0, 0, 0, 0, 0, 0, 0, 0]), 1000)\n"
     ]
    },
    {
     "name": "stdout",
     "output_type": "stream",
     "text": [
      "USB error\n",
      "Waiting to read...\n"
     ]
    }
   ],
   "source": [
    "print (\"Starting: \",strftime(\"%Y-%m-%d %H:%M:%S\", gmtime()))\n",
    "\n",
    "collected = 0\n",
    "attempts = 50\n",
    "while collected < attempts:\n",
    "    try:\n",
    "        # reading\n",
    "        print (\"Waiting to read...\")\n",
    "        data = dev.read(endpoint_in.bEndpointAddress, endpoint_in.wMaxPacketSize)\n",
    "        print(\"Read done\")\n",
    "\n",
    "        print (strftime(\"%Y-%m-%d %H:%M:%S\", gmtime()))\n",
    "        print(data)\n",
    "        \n",
    "        collected += 1\n",
    "        \n",
    "        time.sleep(10)\n",
    "    except usb.core.USBError:\n",
    "        print (\"USB error\")\n",
    "    except:\n",
    "        print (\"Read failed\")\n",
    "\n",
    "# This is needed to release interface, otherwise attach_kernel_driver fails\n",
    "# due to \"Resource busy\"\n",
    "usb.util.dispose_resources(dev)\n",
    "\n",
    "# It may raise USBError if there's e.g. no kernel driver loaded at all\n",
    "if reattach:\n",
    "    dev.attach_kernel_driver(0)"
   ]
  },
  {
   "cell_type": "code",
   "execution_count": null,
   "metadata": {
    "collapsed": true
   },
   "outputs": [],
   "source": []
  }
 ],
 "metadata": {
  "kernelspec": {
   "display_name": "Python 3",
   "language": "python",
   "name": "python3"
  },
  "language_info": {
   "codemirror_mode": {
    "name": "ipython",
    "version": 3
   },
   "file_extension": ".py",
   "mimetype": "text/x-python",
   "name": "python",
   "nbconvert_exporter": "python",
   "pygments_lexer": "ipython3",
   "version": "3.5.2"
  }
 },
 "nbformat": 4,
 "nbformat_minor": 2
}
